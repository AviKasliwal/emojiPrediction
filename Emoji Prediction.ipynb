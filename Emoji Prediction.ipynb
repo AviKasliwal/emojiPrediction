{
 "cells": [
  {
   "cell_type": "markdown",
   "metadata": {},
   "source": [
    "# Emoji Prediction using LSTM(RNN)\n",
    "___"
   ]
  },
  {
   "cell_type": "code",
   "execution_count": 14,
   "metadata": {},
   "outputs": [
    {
     "name": "stdout",
     "output_type": "stream",
     "text": [
      "Imports ready !\n"
     ]
    }
   ],
   "source": [
    "import emoji\n",
    "import pandas as pd\n",
    "import numpy as np\n",
    "\n",
    "from keras.utils import to_categorical\n",
    "\n",
    "from keras.layers import *\n",
    "from keras.models import Sequential\n",
    "\n",
    "print('Imports ready !')"
   ]
  },
  {
   "cell_type": "markdown",
   "metadata": {},
   "source": [
    "## Load Train, Test Data\n",
    "___"
   ]
  },
  {
   "cell_type": "code",
   "execution_count": 2,
   "metadata": {},
   "outputs": [
    {
     "name": "stdout",
     "output_type": "stream",
     "text": [
      "(132, 4)   (56, 2)\n"
     ]
    }
   ],
   "source": [
    "train = pd.read_csv('dataset/train_emoji.csv', header = None)\n",
    "test = pd.read_csv('dataset/test_emoji.cdv', header = None)\n",
    "\n",
    "print(train.shape, \" \", test.shape)"
   ]
  },
  {
   "cell_type": "code",
   "execution_count": 3,
   "metadata": {},
   "outputs": [
    {
     "data": {
      "text/html": [
       "<div>\n",
       "<style scoped>\n",
       "    .dataframe tbody tr th:only-of-type {\n",
       "        vertical-align: middle;\n",
       "    }\n",
       "\n",
       "    .dataframe tbody tr th {\n",
       "        vertical-align: top;\n",
       "    }\n",
       "\n",
       "    .dataframe thead th {\n",
       "        text-align: right;\n",
       "    }\n",
       "</style>\n",
       "<table border=\"1\" class=\"dataframe\">\n",
       "  <thead>\n",
       "    <tr style=\"text-align: right;\">\n",
       "      <th></th>\n",
       "      <th>0</th>\n",
       "      <th>1</th>\n",
       "      <th>2</th>\n",
       "      <th>3</th>\n",
       "    </tr>\n",
       "  </thead>\n",
       "  <tbody>\n",
       "    <tr>\n",
       "      <th>0</th>\n",
       "      <td>never talk to me again</td>\n",
       "      <td>3</td>\n",
       "      <td>NaN</td>\n",
       "      <td>NaN</td>\n",
       "    </tr>\n",
       "    <tr>\n",
       "      <th>1</th>\n",
       "      <td>I am proud of your achievements</td>\n",
       "      <td>2</td>\n",
       "      <td>NaN</td>\n",
       "      <td>NaN</td>\n",
       "    </tr>\n",
       "    <tr>\n",
       "      <th>2</th>\n",
       "      <td>It is the worst day in my life</td>\n",
       "      <td>3</td>\n",
       "      <td>NaN</td>\n",
       "      <td>NaN</td>\n",
       "    </tr>\n",
       "    <tr>\n",
       "      <th>3</th>\n",
       "      <td>Miss you so much</td>\n",
       "      <td>0</td>\n",
       "      <td>NaN</td>\n",
       "      <td>[0]</td>\n",
       "    </tr>\n",
       "    <tr>\n",
       "      <th>4</th>\n",
       "      <td>food is life</td>\n",
       "      <td>4</td>\n",
       "      <td>NaN</td>\n",
       "      <td>NaN</td>\n",
       "    </tr>\n",
       "  </tbody>\n",
       "</table>\n",
       "</div>"
      ],
      "text/plain": [
       "                                 0  1   2     3\n",
       "0           never talk to me again  3 NaN   NaN\n",
       "1  I am proud of your achievements  2 NaN   NaN\n",
       "2   It is the worst day in my life  3 NaN   NaN\n",
       "3                 Miss you so much  0 NaN   [0]\n",
       "4                     food is life  4 NaN   NaN"
      ]
     },
     "execution_count": 3,
     "metadata": {},
     "output_type": "execute_result"
    }
   ],
   "source": [
    "train.head()"
   ]
  },
  {
   "cell_type": "code",
   "execution_count": 4,
   "metadata": {},
   "outputs": [
    {
     "data": {
      "text/html": [
       "<div>\n",
       "<style scoped>\n",
       "    .dataframe tbody tr th:only-of-type {\n",
       "        vertical-align: middle;\n",
       "    }\n",
       "\n",
       "    .dataframe tbody tr th {\n",
       "        vertical-align: top;\n",
       "    }\n",
       "\n",
       "    .dataframe thead th {\n",
       "        text-align: right;\n",
       "    }\n",
       "</style>\n",
       "<table border=\"1\" class=\"dataframe\">\n",
       "  <thead>\n",
       "    <tr style=\"text-align: right;\">\n",
       "      <th></th>\n",
       "      <th>0</th>\n",
       "      <th>1</th>\n",
       "    </tr>\n",
       "  </thead>\n",
       "  <tbody>\n",
       "    <tr>\n",
       "      <th>0</th>\n",
       "      <td>I want to eat\\t</td>\n",
       "      <td>4</td>\n",
       "    </tr>\n",
       "    <tr>\n",
       "      <th>1</th>\n",
       "      <td>he did not answer\\t</td>\n",
       "      <td>3</td>\n",
       "    </tr>\n",
       "    <tr>\n",
       "      <th>2</th>\n",
       "      <td>he got a raise\\t</td>\n",
       "      <td>2</td>\n",
       "    </tr>\n",
       "    <tr>\n",
       "      <th>3</th>\n",
       "      <td>she got me a present\\t</td>\n",
       "      <td>0</td>\n",
       "    </tr>\n",
       "    <tr>\n",
       "      <th>4</th>\n",
       "      <td>ha ha ha it was so funny\\t</td>\n",
       "      <td>2</td>\n",
       "    </tr>\n",
       "  </tbody>\n",
       "</table>\n",
       "</div>"
      ],
      "text/plain": [
       "                            0  1\n",
       "0             I want to eat\\t  4\n",
       "1         he did not answer\\t  3\n",
       "2            he got a raise\\t  2\n",
       "3      she got me a present\\t  0\n",
       "4  ha ha ha it was so funny\\t  2"
      ]
     },
     "execution_count": 4,
     "metadata": {},
     "output_type": "execute_result"
    }
   ],
   "source": [
    "test.head()"
   ]
  },
  {
   "cell_type": "code",
   "execution_count": 5,
   "metadata": {},
   "outputs": [],
   "source": [
    "emoji_dictionary = {\"0\": \"\\u2764\\uFE0F\",    # :heart: prints a black instead of red heart depending on the font\n",
    "                    \"1\": \":baseball:\",\n",
    "                    \"2\": \":beaming_face_with_smiling_eyes:\",\n",
    "                    \"3\": \":downcast_face_with_sweat:\",\n",
    "                    \"4\": \":fork_and_knife:\",\n",
    "                   }"
   ]
  },
  {
   "cell_type": "code",
   "execution_count": 6,
   "metadata": {},
   "outputs": [],
   "source": [
    "x_train = train.values[:, 0]\n",
    "y_train = to_categorical(train.values[:, 1])\n",
    "\n",
    "x_test = test.values[:, 0]\n",
    "y_test = to_categorical(test.values[:, 1])"
   ]
  },
  {
   "cell_type": "code",
   "execution_count": 7,
   "metadata": {},
   "outputs": [
    {
     "data": {
      "text/plain": [
       "array([[0., 0., 0., 1., 0.],\n",
       "       [0., 0., 1., 0., 0.],\n",
       "       [0., 0., 0., 1., 0.],\n",
       "       [1., 0., 0., 0., 0.],\n",
       "       [0., 0., 0., 0., 1.]], dtype=float32)"
      ]
     },
     "execution_count": 7,
     "metadata": {},
     "output_type": "execute_result"
    }
   ],
   "source": [
    "y_train[0:5]"
   ]
  },
  {
   "cell_type": "markdown",
   "metadata": {},
   "source": [
    "## Creating word embeddings\n",
    "___"
   ]
  },
  {
   "cell_type": "code",
   "execution_count": 8,
   "metadata": {},
   "outputs": [],
   "source": [
    "embeddings = {}\n",
    "with open('glove.6B.50d.txt',encoding='utf-8') as f:\n",
    "    for line in f:\n",
    "        values = line.split() # splits the word and coeff\n",
    "        word = values[0] # word\n",
    "        coeffs = np.asarray(values[1:],dtype='float32') # makes a word vector of len 50 for each word\n",
    "        embeddings[word] = coeffs"
   ]
  },
  {
   "cell_type": "code",
   "execution_count": 9,
   "metadata": {},
   "outputs": [
    {
     "data": {
      "text/plain": [
       "array(['never talk to me again', 'I am proud of your achievements',\n",
       "       'It is the worst day in my life', 'Miss you so much',\n",
       "       'food is life'], dtype=object)"
      ]
     },
     "execution_count": 9,
     "metadata": {},
     "output_type": "execute_result"
    }
   ],
   "source": [
    "x_train[0:5]"
   ]
  },
  {
   "cell_type": "code",
   "execution_count": 10,
   "metadata": {},
   "outputs": [],
   "source": [
    "def getOutputEmbeddings(X):\n",
    "    \n",
    "    embedding_matrix_output = np.zeros((X.shape[0],10,50))\n",
    "    for ix in range(X.shape[0]):\n",
    "        X[ix] = X[ix].split() # get a list of words of the sentence\n",
    "        for jx in range(len(X[ix])):\n",
    "            embedding_matrix_output[ix][jx] = embeddings[X[ix][jx].lower()]\n",
    "            \n",
    "    return embedding_matrix_output"
   ]
  },
  {
   "cell_type": "code",
   "execution_count": 11,
   "metadata": {},
   "outputs": [],
   "source": [
    "emb_x_train = getOutputEmbeddings(x_train)\n",
    "emb_x_test = getOutputEmbeddings(x_test)"
   ]
  },
  {
   "cell_type": "code",
   "execution_count": 12,
   "metadata": {},
   "outputs": [
    {
     "data": {
      "text/plain": [
       "(132, 10, 50)"
      ]
     },
     "execution_count": 12,
     "metadata": {},
     "output_type": "execute_result"
    }
   ],
   "source": [
    "emb_x_train.shape"
   ]
  },
  {
   "cell_type": "code",
   "execution_count": 13,
   "metadata": {},
   "outputs": [
    {
     "data": {
      "text/plain": [
       "(56, 10, 50)"
      ]
     },
     "execution_count": 13,
     "metadata": {},
     "output_type": "execute_result"
    }
   ],
   "source": [
    "emb_x_test.shape"
   ]
  },
  {
   "cell_type": "code",
   "execution_count": 15,
   "metadata": {},
   "outputs": [
    {
     "name": "stdout",
     "output_type": "stream",
     "text": [
      "Model: \"sequential_1\"\n",
      "_________________________________________________________________\n",
      "Layer (type)                 Output Shape              Param #   \n",
      "=================================================================\n",
      "lstm_1 (LSTM)                (None, 10, 64)            29440     \n",
      "_________________________________________________________________\n",
      "dropout_1 (Dropout)          (None, 10, 64)            0         \n",
      "_________________________________________________________________\n",
      "lstm_2 (LSTM)                (None, 64)                33024     \n",
      "_________________________________________________________________\n",
      "dropout_2 (Dropout)          (None, 64)                0         \n",
      "_________________________________________________________________\n",
      "dense_1 (Dense)              (None, 5)                 325       \n",
      "_________________________________________________________________\n",
      "activation_1 (Activation)    (None, 5)                 0         \n",
      "=================================================================\n",
      "Total params: 62,789\n",
      "Trainable params: 62,789\n",
      "Non-trainable params: 0\n",
      "_________________________________________________________________\n"
     ]
    }
   ],
   "source": [
    "model = Sequential()\n",
    "model.add(LSTM(64,input_shape = (10,50),return_sequences=True)) # to create a stacked LSTM model\n",
    "model.add(Dropout(0.4))\n",
    "model.add(LSTM(64,input_shape = (10,50)))\n",
    "model.add(Dropout(0.3))\n",
    "model.add(Dense(5))\n",
    "model.add(Activation('softmax'))\n",
    "model.summary()"
   ]
  },
  {
   "cell_type": "code",
   "execution_count": 16,
   "metadata": {},
   "outputs": [
    {
     "name": "stdout",
     "output_type": "stream",
     "text": [
      "Train on 118 samples, validate on 14 samples\n",
      "Epoch 1/40\n",
      "118/118 [==============================] - 6s 47ms/step - loss: 1.5983 - acc: 0.2458 - val_loss: 1.6330 - val_acc: 0.1429\n",
      "Epoch 2/40\n",
      "118/118 [==============================] - 0s 2ms/step - loss: 1.5595 - acc: 0.3559 - val_loss: 1.6408 - val_acc: 0.0714\n",
      "Epoch 3/40\n",
      "118/118 [==============================] - 0s 2ms/step - loss: 1.4978 - acc: 0.3220 - val_loss: 1.6710 - val_acc: 0.0714\n",
      "Epoch 4/40\n",
      "118/118 [==============================] - 0s 2ms/step - loss: 1.4599 - acc: 0.3644 - val_loss: 1.6750 - val_acc: 0.1429\n",
      "Epoch 5/40\n",
      "118/118 [==============================] - 0s 2ms/step - loss: 1.4071 - acc: 0.3983 - val_loss: 1.6223 - val_acc: 0.1429\n",
      "Epoch 6/40\n",
      "118/118 [==============================] - 0s 3ms/step - loss: 1.3575 - acc: 0.4492 - val_loss: 1.5329 - val_acc: 0.1429\n",
      "Epoch 7/40\n",
      "118/118 [==============================] - 0s 2ms/step - loss: 1.2608 - acc: 0.4915 - val_loss: 1.5022 - val_acc: 0.2143\n",
      "Epoch 8/40\n",
      "118/118 [==============================] - 0s 2ms/step - loss: 1.1600 - acc: 0.5424 - val_loss: 1.4979 - val_acc: 0.3571\n",
      "Epoch 9/40\n",
      "118/118 [==============================] - 0s 2ms/step - loss: 1.0424 - acc: 0.6186 - val_loss: 1.4337 - val_acc: 0.5000\n",
      "Epoch 10/40\n",
      "118/118 [==============================] - 0s 2ms/step - loss: 0.9335 - acc: 0.6780 - val_loss: 1.4787 - val_acc: 0.5714\n",
      "Epoch 11/40\n",
      "118/118 [==============================] - 0s 2ms/step - loss: 0.8645 - acc: 0.6864 - val_loss: 1.3125 - val_acc: 0.5714\n",
      "Epoch 12/40\n",
      "118/118 [==============================] - 0s 2ms/step - loss: 0.7849 - acc: 0.7203 - val_loss: 1.1653 - val_acc: 0.5000\n",
      "Epoch 13/40\n",
      "118/118 [==============================] - 0s 2ms/step - loss: 0.6870 - acc: 0.7542 - val_loss: 1.0689 - val_acc: 0.5714\n",
      "Epoch 14/40\n",
      "118/118 [==============================] - 0s 2ms/step - loss: 0.5424 - acc: 0.8475 - val_loss: 1.2499 - val_acc: 0.5000\n",
      "Epoch 15/40\n",
      "118/118 [==============================] - 0s 2ms/step - loss: 0.5415 - acc: 0.7966 - val_loss: 0.7629 - val_acc: 0.7143\n",
      "Epoch 16/40\n",
      "118/118 [==============================] - 0s 2ms/step - loss: 0.5703 - acc: 0.7881 - val_loss: 1.1044 - val_acc: 0.5714\n",
      "Epoch 17/40\n",
      "118/118 [==============================] - 0s 2ms/step - loss: 0.4841 - acc: 0.8220 - val_loss: 0.9160 - val_acc: 0.7143\n",
      "Epoch 18/40\n",
      "118/118 [==============================] - 0s 2ms/step - loss: 0.3789 - acc: 0.8898 - val_loss: 1.0139 - val_acc: 0.5714\n",
      "Epoch 19/40\n",
      "118/118 [==============================] - 0s 2ms/step - loss: 0.4274 - acc: 0.8559 - val_loss: 0.7122 - val_acc: 0.6429\n",
      "Epoch 20/40\n",
      "118/118 [==============================] - 0s 2ms/step - loss: 0.3358 - acc: 0.8814 - val_loss: 1.2201 - val_acc: 0.5000\n",
      "Epoch 21/40\n",
      "118/118 [==============================] - 0s 2ms/step - loss: 0.3258 - acc: 0.9068 - val_loss: 0.8440 - val_acc: 0.6429\n",
      "Epoch 22/40\n",
      "118/118 [==============================] - 0s 2ms/step - loss: 0.2696 - acc: 0.9068 - val_loss: 0.7313 - val_acc: 0.7143\n",
      "Epoch 23/40\n",
      "118/118 [==============================] - 0s 2ms/step - loss: 0.2564 - acc: 0.8983 - val_loss: 0.9980 - val_acc: 0.6429\n",
      "Epoch 24/40\n",
      "118/118 [==============================] - 0s 2ms/step - loss: 0.3095 - acc: 0.8983 - val_loss: 0.9166 - val_acc: 0.6429\n",
      "Epoch 25/40\n",
      "118/118 [==============================] - 0s 2ms/step - loss: 0.1654 - acc: 0.9492 - val_loss: 0.6499 - val_acc: 0.7143\n",
      "Epoch 26/40\n",
      "118/118 [==============================] - 0s 2ms/step - loss: 0.2125 - acc: 0.9068 - val_loss: 0.8501 - val_acc: 0.6429\n",
      "Epoch 27/40\n",
      "118/118 [==============================] - 0s 2ms/step - loss: 0.2016 - acc: 0.9153 - val_loss: 0.9153 - val_acc: 0.7143\n",
      "Epoch 28/40\n",
      "118/118 [==============================] - 0s 3ms/step - loss: 0.2122 - acc: 0.9153 - val_loss: 0.9186 - val_acc: 0.7143\n",
      "Epoch 29/40\n",
      "118/118 [==============================] - 0s 3ms/step - loss: 0.1959 - acc: 0.9237 - val_loss: 0.6727 - val_acc: 0.7857\n",
      "Epoch 30/40\n",
      "118/118 [==============================] - 0s 3ms/step - loss: 0.2266 - acc: 0.9492 - val_loss: 0.8082 - val_acc: 0.6429\n",
      "Epoch 31/40\n",
      "118/118 [==============================] - 0s 2ms/step - loss: 0.0993 - acc: 0.9746 - val_loss: 1.6049 - val_acc: 0.5000\n",
      "Epoch 32/40\n",
      "118/118 [==============================] - 0s 4ms/step - loss: 0.1547 - acc: 0.9576 - val_loss: 0.6975 - val_acc: 0.7857\n",
      "Epoch 33/40\n",
      "118/118 [==============================] - 0s 4ms/step - loss: 0.2143 - acc: 0.9322 - val_loss: 0.7583 - val_acc: 0.7143\n",
      "Epoch 34/40\n",
      "118/118 [==============================] - 1s 5ms/step - loss: 0.2279 - acc: 0.9322 - val_loss: 1.4232 - val_acc: 0.5714\n",
      "Epoch 35/40\n",
      "118/118 [==============================] - 0s 3ms/step - loss: 0.0790 - acc: 0.9915 - val_loss: 0.7901 - val_acc: 0.8571\n",
      "Epoch 36/40\n",
      "118/118 [==============================] - 0s 3ms/step - loss: 0.1498 - acc: 0.9492 - val_loss: 1.0216 - val_acc: 0.6429\n",
      "Epoch 37/40\n",
      "118/118 [==============================] - 0s 3ms/step - loss: 0.0887 - acc: 0.9746 - val_loss: 1.0245 - val_acc: 0.6429\n",
      "Epoch 38/40\n",
      "118/118 [==============================] - 0s 3ms/step - loss: 0.0669 - acc: 0.9915 - val_loss: 0.8068 - val_acc: 0.7143\n",
      "Epoch 39/40\n",
      "118/118 [==============================] - 0s 3ms/step - loss: 0.0668 - acc: 0.9831 - val_loss: 0.9077 - val_acc: 0.6429\n",
      "Epoch 40/40\n",
      "118/118 [==============================] - 0s 3ms/step - loss: 0.0649 - acc: 0.9831 - val_loss: 1.3110 - val_acc: 0.5714\n"
     ]
    },
    {
     "data": {
      "text/plain": [
       "<keras.callbacks.callbacks.History at 0x7f40230afb90>"
      ]
     },
     "execution_count": 16,
     "metadata": {},
     "output_type": "execute_result"
    }
   ],
   "source": [
    "model.compile(optimizer='adam',loss='categorical_crossentropy',metrics=['acc'])\n",
    "model.fit(emb_x_train,y_train,batch_size=32,epochs=40,shuffle=True,validation_split=0.1)"
   ]
  },
  {
   "cell_type": "code",
   "execution_count": 17,
   "metadata": {
    "scrolled": true
   },
   "outputs": [
    {
     "name": "stdout",
     "output_type": "stream",
     "text": [
      "56/56 [==============================] - 0s 858us/step\n"
     ]
    },
    {
     "data": {
      "text/plain": [
       "[1.6048065083367484, 0.6071428656578064]"
      ]
     },
     "execution_count": 17,
     "metadata": {},
     "output_type": "execute_result"
    }
   ],
   "source": [
    "model.evaluate(emb_x_test,y_test)"
   ]
  },
  {
   "cell_type": "code",
   "execution_count": 18,
   "metadata": {},
   "outputs": [],
   "source": [
    "pred = model.predict_classes(emb_x_test)"
   ]
  },
  {
   "cell_type": "code",
   "execution_count": 25,
   "metadata": {},
   "outputs": [
    {
     "name": "stdout",
     "output_type": "stream",
     "text": [
      "Sentence      : Actual       Prediction\n",
      "I want to eat : 🍴 🍴\n",
      "he did not answer : 😓 😓\n",
      "he got a raise : 😁 😁\n",
      "she got me a present : ❤️ 😁\n",
      "ha ha ha it was so funny : 😁 😁\n",
      "he is a good friend : ❤️ 😁\n",
      "I am upset : ❤️ 😓\n",
      "We had such a lovely dinner tonight : ❤️ 😁\n",
      "where is the food : 🍴 🍴\n",
      "Stop making this joke ha ha ha : 😁 😁\n"
     ]
    }
   ],
   "source": [
    "print(\"Sentence      : Actual       Prediction\")\n",
    "for i in range(10):\n",
    "    print(' '.join(x_test[i]), end = \" : \")\n",
    "    print(emoji.emojize(emoji_dictionary[str(np.argmax(y_test[i]))]), end = \" \")\n",
    "    print(emoji.emojize(emoji_dictionary[str(pred[i])]))"
   ]
  }
 ],
 "metadata": {
  "kernelspec": {
   "display_name": "Python 3",
   "language": "python",
   "name": "python3"
  },
  "language_info": {
   "codemirror_mode": {
    "name": "ipython",
    "version": 3
   },
   "file_extension": ".py",
   "mimetype": "text/x-python",
   "name": "python",
   "nbconvert_exporter": "python",
   "pygments_lexer": "ipython3",
   "version": "3.7.4"
  }
 },
 "nbformat": 4,
 "nbformat_minor": 2
}
