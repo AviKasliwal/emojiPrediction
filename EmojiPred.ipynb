{
 "cells": [
  {
   "cell_type": "markdown",
   "metadata": {},
   "source": [
    "# Emoji Prediction using Transfer Learning\n",
    "\n",
    "Understanding the sentiment of the sentence and then predicting an Emoji for it."
   ]
  },
  {
   "cell_type": "markdown",
   "metadata": {},
   "source": [
    "## Importing Libraries"
   ]
  },
  {
   "cell_type": "code",
   "execution_count": 1,
   "metadata": {},
   "outputs": [
    {
     "name": "stdout",
     "output_type": "stream",
     "text": [
      "Imports ready!\n"
     ]
    }
   ],
   "source": [
    "import numpy as np\n",
    "import pandas as pd\n",
    "import emoji\n",
    "\n",
    "from tensorflow.keras.utils import to_categorical\n",
    "from tensorflow.keras.models import Sequential\n",
    "from tensorflow.keras.layers import Dense, Input, Dropout, LSTM, Activation\n",
    "from tensorflow.keras.layers import Embedding\n",
    "from tensorflow.keras.callbacks import ReduceLROnPlateau, ModelCheckpoint\n",
    "\n",
    "from sklearn.metrics import confusion_matrix\n",
    "from sklearn.metrics import precision_score, recall_score\n",
    "\n",
    "from matplotlib import pyplot as plt\n",
    "import seaborn as sns\n",
    "\n",
    "print (\"Imports ready!\")"
   ]
  },
  {
   "cell_type": "markdown",
   "metadata": {},
   "source": [
    "## Goal of the project"
   ]
  },
  {
   "cell_type": "markdown",
   "metadata": {},
   "source": [
    "The task is to build an Emojifier by using word vector representations. The model will take an input sentence and find the most appropriate emoji to be used with this sentence - from an assortment of 5 emoji's at its disposal.\n",
    "\n",
    "- 😁\n",
    "- 😓\n",
    "- 🖤\n",
    "- 🍴\n",
    "- ⚾"
   ]
  },
  {
   "cell_type": "markdown",
   "metadata": {},
   "source": [
    "## Loading the dataset"
   ]
  },
  {
   "cell_type": "code",
   "execution_count": 2,
   "metadata": {},
   "outputs": [
    {
     "name": "stdout",
     "output_type": "stream",
     "text": [
      "Training data shape = (132, 2), Validation data shape = (56, 2)\n"
     ]
    },
    {
     "data": {
      "text/html": [
       "<div>\n",
       "<style scoped>\n",
       "    .dataframe tbody tr th:only-of-type {\n",
       "        vertical-align: middle;\n",
       "    }\n",
       "\n",
       "    .dataframe tbody tr th {\n",
       "        vertical-align: top;\n",
       "    }\n",
       "\n",
       "    .dataframe thead th {\n",
       "        text-align: right;\n",
       "    }\n",
       "</style>\n",
       "<table border=\"1\" class=\"dataframe\">\n",
       "  <thead>\n",
       "    <tr style=\"text-align: right;\">\n",
       "      <th></th>\n",
       "      <th>0</th>\n",
       "      <th>1</th>\n",
       "    </tr>\n",
       "  </thead>\n",
       "  <tbody>\n",
       "    <tr>\n",
       "      <th>0</th>\n",
       "      <td>never talk to me again</td>\n",
       "      <td>3</td>\n",
       "    </tr>\n",
       "    <tr>\n",
       "      <th>1</th>\n",
       "      <td>I am proud of your achievements</td>\n",
       "      <td>2</td>\n",
       "    </tr>\n",
       "    <tr>\n",
       "      <th>2</th>\n",
       "      <td>It is the worst day in my life</td>\n",
       "      <td>3</td>\n",
       "    </tr>\n",
       "  </tbody>\n",
       "</table>\n",
       "</div>"
      ],
      "text/plain": [
       "                                 0  1\n",
       "0           never talk to me again  3\n",
       "1  I am proud of your achievements  2\n",
       "2   It is the worst day in my life  3"
      ]
     },
     "execution_count": 2,
     "metadata": {},
     "output_type": "execute_result"
    }
   ],
   "source": [
    "train = pd.read_csv ('dataset/train_emoji.csv', usecols = [0, 1], header = None)\n",
    "test = pd.read_csv ('dataset/test_emoji.csv', usecols = [0, 1], header = None)\n",
    "\n",
    "print (f'Training data shape = {train.shape}, Validation data shape = {test.shape}')\n",
    "\n",
    "train.head (3)"
   ]
  },
  {
   "cell_type": "code",
   "execution_count": 3,
   "metadata": {},
   "outputs": [
    {
     "data": {
      "text/plain": [
       "2    38\n",
       "3    36\n",
       "0    22\n",
       "1    19\n",
       "4    17\n",
       "Name: 1, dtype: int64"
      ]
     },
     "execution_count": 3,
     "metadata": {},
     "output_type": "execute_result"
    }
   ],
   "source": [
    "train[1].value_counts()"
   ]
  },
  {
   "cell_type": "code",
   "execution_count": 4,
   "metadata": {
    "scrolled": true
   },
   "outputs": [
    {
     "data": {
      "text/html": [
       "<div>\n",
       "<style scoped>\n",
       "    .dataframe tbody tr th:only-of-type {\n",
       "        vertical-align: middle;\n",
       "    }\n",
       "\n",
       "    .dataframe tbody tr th {\n",
       "        vertical-align: top;\n",
       "    }\n",
       "\n",
       "    .dataframe thead th {\n",
       "        text-align: right;\n",
       "    }\n",
       "</style>\n",
       "<table border=\"1\" class=\"dataframe\">\n",
       "  <thead>\n",
       "    <tr style=\"text-align: right;\">\n",
       "      <th></th>\n",
       "      <th>0</th>\n",
       "      <th>1</th>\n",
       "    </tr>\n",
       "  </thead>\n",
       "  <tbody>\n",
       "    <tr>\n",
       "      <th>0</th>\n",
       "      <td>I want to eat\\t</td>\n",
       "      <td>4</td>\n",
       "    </tr>\n",
       "    <tr>\n",
       "      <th>1</th>\n",
       "      <td>he did not answer\\t</td>\n",
       "      <td>3</td>\n",
       "    </tr>\n",
       "    <tr>\n",
       "      <th>2</th>\n",
       "      <td>he got a raise\\t</td>\n",
       "      <td>2</td>\n",
       "    </tr>\n",
       "  </tbody>\n",
       "</table>\n",
       "</div>"
      ],
      "text/plain": [
       "                     0  1\n",
       "0      I want to eat\\t  4\n",
       "1  he did not answer\\t  3\n",
       "2     he got a raise\\t  2"
      ]
     },
     "execution_count": 4,
     "metadata": {},
     "output_type": "execute_result"
    }
   ],
   "source": [
    "test.head (3)"
   ]
  },
  {
   "cell_type": "markdown",
   "metadata": {},
   "source": [
    "## Data Preparation"
   ]
  },
  {
   "cell_type": "code",
   "execution_count": 5,
   "metadata": {},
   "outputs": [],
   "source": [
    "'''  \n",
    "    Mapping label to a emoji\n",
    "'''\n",
    "\n",
    "emoji_dictionary = {\"0\": \"\\u2764\\uFE0F\",    # 🖤\n",
    "                    \"1\": \":baseball:\", # ⚾\n",
    "                    \"2\": \":beaming_face_with_smiling_eyes:\", # 😁\n",
    "                    \"3\": \":downcast_face_with_sweat:\", # 😓\n",
    "                    \"4\": \":fork_and_knife:\", # 🍴\n",
    "                   }"
   ]
  },
  {
   "cell_type": "code",
   "execution_count": 6,
   "metadata": {},
   "outputs": [],
   "source": [
    "'''\n",
    "    Getting x_train, y_train from train.csv\n",
    "    x_test, y_test from test.csv\n",
    "'''\n",
    "\n",
    "x_train = train.values[:, 0]\n",
    "y_train = to_categorical (train.values[:, 1])\n",
    "\n",
    "x_test = test.values[:, 0]\n",
    "y_test = to_categorical (test.values[:, 1])"
   ]
  },
  {
   "cell_type": "code",
   "execution_count": 7,
   "metadata": {
    "scrolled": false
   },
   "outputs": [
    {
     "name": "stdout",
     "output_type": "stream",
     "text": [
      "Length of longest sentence (by number of words) is : 10\n"
     ]
    }
   ],
   "source": [
    "maxLen = 0 # Len of longest sentence (by number of words)\n",
    "\n",
    "for sent in x_train:\n",
    "    maxLen = max (maxLen, len (sent.split (' ')))\n",
    "\n",
    "for sent in x_test:\n",
    "    maxLen = max (maxLen, len (sent.split (' ')))\n",
    "    \n",
    "print (f\"Length of longest sentence (by number of words) is : {maxLen}\")"
   ]
  },
  {
   "cell_type": "code",
   "execution_count": 8,
   "metadata": {},
   "outputs": [
    {
     "name": "stdout",
     "output_type": "stream",
     "text": [
      "Sentence : never talk to me again , Emoji : 😓\n",
      "Sentence : I am proud of your achievements , Emoji : 😁\n",
      "Sentence : It is the worst day in my life , Emoji : 😓\n",
      "Sentence : Miss you so much , Emoji : ❤️\n",
      "Sentence : food is life , Emoji : 🍴\n",
      "Sentence : I love you mum , Emoji : ❤️\n",
      "Sentence : Stop saying bullshit , Emoji : 😓\n",
      "Sentence : congratulations on your acceptance , Emoji : 😁\n",
      "Sentence : The assignment is too long  , Emoji : 😓\n",
      "Sentence : I want to go play , Emoji : ⚾\n"
     ]
    }
   ],
   "source": [
    "'''\n",
    "    Frst 10 training points\n",
    "'''\n",
    "\n",
    "for i, sent in enumerate (x_train):\n",
    "    if i == 10:\n",
    "        break\n",
    "    label = str (np.argmax (y_train[i]))\n",
    "    print (f\"Sentence : {sent} , Emoji : {emoji.emojize (emoji_dictionary[label])}\")"
   ]
  },
  {
   "cell_type": "markdown",
   "metadata": {},
   "source": [
    "## Creating word embeddings for the words that are present in the dataset"
   ]
  },
  {
   "cell_type": "markdown",
   "metadata": {},
   "source": [
    "I'll be using word vector representations of the words in the sentence so I need word vector representations of the words in the sentences. I'll use the Glove vectors for this representation.                     \n",
    "                \n",
    "Based on few iterations 100 d vectors seem to work best for this case."
   ]
  },
  {
   "cell_type": "code",
   "execution_count": 9,
   "metadata": {},
   "outputs": [],
   "source": [
    "'''\n",
    "embeddings dictionary:\n",
    "    key = word\n",
    "    value = embedding vector [100 dimension vector]\n",
    "'''\n",
    "\n",
    "embeddings = {}\n",
    "with open ('glove.6B.100d.txt', encoding = 'utf-8') as f:\n",
    "    for line in f:\n",
    "        values = line.split () # splits the word and coeff\n",
    "        word = values[0] # word\n",
    "        coeffs = np.asarray (values[1 : ], dtype = 'float32') # makes a word vector of len 50 for each word\n",
    "        embeddings[word] = coeffs"
   ]
  },
  {
   "cell_type": "code",
   "execution_count": 10,
   "metadata": {},
   "outputs": [],
   "source": [
    "def getOutputEmbeddings(X):\n",
    "    \n",
    "    embedding_matrix_output = np.zeros ((X.shape[0], 10, 100)) # X.shape (num_of_sentences, max_len, embedding_dim)\n",
    "    for ix in range (X.shape[0]): # go to every sentence\n",
    "        X[ix] = X[ix].split () # get a list of words of the sentence\n",
    "        for jx in range (len(X[ix])): # go to every word\n",
    "            embedding_matrix_output[ix][jx] = embeddings[X[ix][jx].lower ()]\n",
    "            \n",
    "    return embedding_matrix_output"
   ]
  },
  {
   "cell_type": "code",
   "execution_count": 11,
   "metadata": {},
   "outputs": [
    {
     "data": {
      "text/plain": [
       "((132, 10, 100), (56, 10, 100))"
      ]
     },
     "execution_count": 11,
     "metadata": {},
     "output_type": "execute_result"
    }
   ],
   "source": [
    "emb_x_train = getOutputEmbeddings(x_train) # getting embeddings for train data\n",
    "emb_x_test = getOutputEmbeddings(x_test) # getting embeddings for test data\n",
    "\n",
    "emb_x_train.shape, emb_x_test.shape"
   ]
  },
  {
   "cell_type": "markdown",
   "metadata": {},
   "source": [
    "## Model"
   ]
  },
  {
   "cell_type": "code",
   "execution_count": 12,
   "metadata": {},
   "outputs": [
    {
     "name": "stdout",
     "output_type": "stream",
     "text": [
      "Model: \"sequential\"\n",
      "_________________________________________________________________\n",
      "Layer (type)                 Output Shape              Param #   \n",
      "=================================================================\n",
      "lstm (LSTM)                  (None, 10, 128)           117248    \n",
      "_________________________________________________________________\n",
      "dropout (Dropout)            (None, 10, 128)           0         \n",
      "_________________________________________________________________\n",
      "lstm_1 (LSTM)                (None, 128)               131584    \n",
      "_________________________________________________________________\n",
      "dropout_1 (Dropout)          (None, 128)               0         \n",
      "_________________________________________________________________\n",
      "dense (Dense)                (None, 5)                 645       \n",
      "_________________________________________________________________\n",
      "activation (Activation)      (None, 5)                 0         \n",
      "=================================================================\n",
      "Total params: 249,477\n",
      "Trainable params: 249,477\n",
      "Non-trainable params: 0\n",
      "_________________________________________________________________\n"
     ]
    }
   ],
   "source": [
    "model = Sequential()\n",
    "model.add (LSTM (128, input_shape = (10, 100),return_sequences=True)) # to create a stacked LSTM model\n",
    "model.add (Dropout (0.5)) # regularisation\n",
    "model.add (LSTM (128, input_shape = (10, 100))) # stacking LSTM layer\n",
    "model.add (Dropout (0.5))\n",
    "model.add (Dense (5))\n",
    "model.add (Activation ('softmax'))\n",
    "model.summary()"
   ]
  },
  {
   "cell_type": "code",
   "execution_count": 13,
   "metadata": {},
   "outputs": [],
   "source": [
    "'''Callbacks'''\n",
    "\n",
    "reduce_lr = ReduceLROnPlateau(monitor = 'loss', factor = 0.3, patience = 3, min_lr = 0.0001, verbose = 1)\n",
    "checkpoint = ModelCheckpoint (\"best_model.h5\", monitor = 'val_acc', verbose = True, save_best_only = True)\n",
    "\n",
    "callbacks = [reduce_lr, checkpoint]"
   ]
  },
  {
   "cell_type": "code",
   "execution_count": 14,
   "metadata": {},
   "outputs": [
    {
     "name": "stdout",
     "output_type": "stream",
     "text": [
      "WARNING:tensorflow:Automatic model reloading for interrupted job was removed from the `ModelCheckpoint` callback in multi-worker mode, please use the `keras.callbacks.experimental.BackupAndRestore` callback instead. See this tutorial for details: https://www.tensorflow.org/tutorials/distribute/multi_worker_with_keras#backupandrestore_callback.\n",
      "Epoch 1/25\n",
      "6/6 [==============================] - ETA: 0s - loss: 1.6126 - acc: 0.2543\n",
      "Epoch 00001: val_acc improved from -inf to 0.35000, saving model to best_model.h5\n",
      "6/6 [==============================] - 7s 1s/step - loss: 1.6090 - acc: 0.2568 - val_loss: 1.5709 - val_acc: 0.3500\n",
      "Epoch 2/25\n",
      "6/6 [==============================] - ETA: 0s - loss: 1.5456 - acc: 0.3066\n",
      "Epoch 00002: val_acc did not improve from 0.35000\n",
      "6/6 [==============================] - 0s 47ms/step - loss: 1.5369 - acc: 0.3156 - val_loss: 1.5034 - val_acc: 0.3500\n",
      "Epoch 3/25\n",
      "6/6 [==============================] - ETA: 0s - loss: 1.4059 - acc: 0.4240\n",
      "Epoch 00003: val_acc improved from 0.35000 to 0.40000, saving model to best_model.h5\n",
      "6/6 [==============================] - 0s 50ms/step - loss: 1.4004 - acc: 0.4256 - val_loss: 1.4751 - val_acc: 0.4000\n",
      "Epoch 4/25\n",
      "6/6 [==============================] - ETA: 0s - loss: 1.2822 - acc: 0.5364\n",
      "Epoch 00004: val_acc improved from 0.40000 to 0.62500, saving model to best_model.h5\n",
      "6/6 [==============================] - 0s 44ms/step - loss: 1.2781 - acc: 0.5374 - val_loss: 1.2530 - val_acc: 0.6250\n",
      "Epoch 5/25\n",
      "5/6 [========================>.....] - ETA: 0s - loss: 1.0890 - acc: 0.7067\n",
      "Epoch 00005: val_acc improved from 0.62500 to 0.67500, saving model to best_model.h5\n",
      "6/6 [==============================] - 0s 65ms/step - loss: 1.0820 - acc: 0.7035 - val_loss: 1.0213 - val_acc: 0.6750\n",
      "Epoch 6/25\n",
      "6/6 [==============================] - ETA: 0s - loss: 0.9220 - acc: 0.6780\n",
      "Epoch 00006: val_acc did not improve from 0.67500\n",
      "6/6 [==============================] - 0s 63ms/step - loss: 0.9257 - acc: 0.6743 - val_loss: 1.0447 - val_acc: 0.6500\n",
      "Epoch 7/25\n",
      "6/6 [==============================] - ETA: 0s - loss: 0.7920 - acc: 0.6981\n",
      "Epoch 00007: val_acc did not improve from 0.67500\n",
      "6/6 [==============================] - 0s 55ms/step - loss: 0.7871 - acc: 0.7024 - val_loss: 0.9118 - val_acc: 0.6000\n",
      "Epoch 8/25\n",
      "6/6 [==============================] - ETA: 0s - loss: 0.6041 - acc: 0.8326\n",
      "Epoch 00008: val_acc did not improve from 0.67500\n",
      "6/6 [==============================] - 0s 60ms/step - loss: 0.5927 - acc: 0.8348 - val_loss: 0.9444 - val_acc: 0.6500\n",
      "Epoch 9/25\n",
      "6/6 [==============================] - ETA: 0s - loss: 0.3753 - acc: 0.9097\n",
      "Epoch 00009: val_acc did not improve from 0.67500\n",
      "6/6 [==============================] - 0s 46ms/step - loss: 0.3824 - acc: 0.9070 - val_loss: 1.0375 - val_acc: 0.6750\n",
      "Epoch 10/25\n",
      "6/6 [==============================] - ETA: 0s - loss: 0.4306 - acc: 0.8689\n",
      "Epoch 00010: val_acc did not improve from 0.67500\n",
      "6/6 [==============================] - 0s 41ms/step - loss: 0.4262 - acc: 0.8690 - val_loss: 1.1589 - val_acc: 0.6250\n",
      "Epoch 11/25\n",
      "5/6 [========================>.....] - ETA: 0s - loss: 0.3399 - acc: 0.9123\n",
      "Epoch 00011: val_acc did not improve from 0.67500\n",
      "6/6 [==============================] - 0s 59ms/step - loss: 0.3329 - acc: 0.9125 - val_loss: 1.1515 - val_acc: 0.6500\n",
      "Epoch 12/25\n",
      "5/6 [========================>.....] - ETA: 0s - loss: 0.2828 - acc: 0.9033\n",
      "Epoch 00012: val_acc did not improve from 0.67500\n",
      "6/6 [==============================] - 0s 54ms/step - loss: 0.2751 - acc: 0.9092 - val_loss: 1.4164 - val_acc: 0.6750\n",
      "Epoch 13/25\n",
      "5/6 [========================>.....] - ETA: 0s - loss: 0.3115 - acc: 0.9056\n",
      "Epoch 00013: val_acc improved from 0.67500 to 0.75000, saving model to best_model.h5\n",
      "6/6 [==============================] - 0s 60ms/step - loss: 0.3084 - acc: 0.8984 - val_loss: 1.4243 - val_acc: 0.7500\n",
      "Epoch 14/25\n",
      "5/6 [========================>.....] - ETA: 0s - loss: 0.1903 - acc: 0.9337\n",
      "Epoch 00014: val_acc did not improve from 0.75000\n",
      "6/6 [==============================] - 0s 54ms/step - loss: 0.1796 - acc: 0.9403 - val_loss: 1.3824 - val_acc: 0.6000\n",
      "Epoch 15/25\n",
      "6/6 [==============================] - ETA: 0s - loss: 0.1378 - acc: 0.9571\n",
      "Epoch 00015: val_acc did not improve from 0.75000\n",
      "6/6 [==============================] - 0s 56ms/step - loss: 0.1378 - acc: 0.9555 - val_loss: 1.2226 - val_acc: 0.6250\n",
      "Epoch 16/25\n",
      "6/6 [==============================] - ETA: 0s - loss: 0.1171 - acc: 0.9640\n",
      "Epoch 00016: val_acc did not improve from 0.75000\n",
      "6/6 [==============================] - 0s 46ms/step - loss: 0.1156 - acc: 0.9645 - val_loss: 1.1917 - val_acc: 0.6250\n",
      "Epoch 17/25\n",
      "5/6 [========================>.....] - ETA: 0s - loss: 0.0847 - acc: 0.9840\n",
      "Epoch 00017: val_acc did not improve from 0.75000\n",
      "6/6 [==============================] - 0s 50ms/step - loss: 0.0805 - acc: 0.9854 - val_loss: 1.2759 - val_acc: 0.6250\n",
      "Epoch 18/25\n",
      "5/6 [========================>.....] - ETA: 0s - loss: 0.0525 - acc: 1.0000\n",
      "Epoch 00018: val_acc did not improve from 0.75000\n",
      "6/6 [==============================] - 0s 55ms/step - loss: 0.0493 - acc: 1.0000 - val_loss: 1.3710 - val_acc: 0.6250\n",
      "Epoch 19/25\n",
      "6/6 [==============================] - ETA: 0s - loss: 0.0184 - acc: 1.0000\n",
      "Epoch 00019: val_acc did not improve from 0.75000\n",
      "6/6 [==============================] - 0s 54ms/step - loss: 0.0186 - acc: 1.0000 - val_loss: 1.5391 - val_acc: 0.6250\n",
      "Epoch 20/25\n",
      "5/6 [========================>.....] - ETA: 0s - loss: 0.0277 - acc: 1.0000\n",
      "Epoch 00020: val_acc did not improve from 0.75000\n",
      "6/6 [==============================] - 0s 56ms/step - loss: 0.0265 - acc: 1.0000 - val_loss: 1.7301 - val_acc: 0.6000\n",
      "Epoch 21/25\n",
      "5/6 [========================>.....] - ETA: 0s - loss: 0.0114 - acc: 1.0000\n",
      "Epoch 00021: val_acc did not improve from 0.75000\n",
      "6/6 [==============================] - 0s 43ms/step - loss: 0.0116 - acc: 1.0000 - val_loss: 1.8478 - val_acc: 0.6000\n",
      "Epoch 22/25\n",
      "6/6 [==============================] - ETA: 0s - loss: 0.0146 - acc: 1.0000\n",
      "Epoch 00022: val_acc did not improve from 0.75000\n",
      "6/6 [==============================] - 0s 33ms/step - loss: 0.0139 - acc: 1.0000 - val_loss: 1.8922 - val_acc: 0.6250\n",
      "Epoch 23/25\n",
      "5/6 [========================>.....] - ETA: 0s - loss: 0.0355 - acc: 0.9715\n",
      "Epoch 00023: val_acc did not improve from 0.75000\n",
      "6/6 [==============================] - 0s 30ms/step - loss: 0.0320 - acc: 0.9765 - val_loss: 1.9532 - val_acc: 0.5750\n",
      "Epoch 24/25\n",
      "6/6 [==============================] - ETA: 0s - loss: 0.0588 - acc: 0.9817\n",
      "Epoch 00024: val_acc did not improve from 0.75000\n",
      "6/6 [==============================] - 0s 45ms/step - loss: 0.0694 - acc: 0.9797 - val_loss: 1.8632 - val_acc: 0.6000\n",
      "Epoch 25/25\n",
      "5/6 [========================>.....] - ETA: 0s - loss: 0.2034 - acc: 0.9398\n",
      "Epoch 00025: ReduceLROnPlateau reducing learning rate to 0.0003000000142492354.\n",
      "\n",
      "Epoch 00025: val_acc did not improve from 0.75000\n",
      "6/6 [==============================] - 0s 43ms/step - loss: 0.3125 - acc: 0.9197 - val_loss: 1.8771 - val_acc: 0.6000\n"
     ]
    }
   ],
   "source": [
    "model.compile (optimizer = 'adam', loss = 'categorical_crossentropy', metrics = ['acc'])\n",
    "hist = model.fit (emb_x_train, y_train, epochs = 25, batch_size = 16, shuffle = True, validation_split = 0.3, callbacks = callbacks)"
   ]
  },
  {
   "cell_type": "markdown",
   "metadata": {},
   "source": [
    "## Model Accuracy"
   ]
  },
  {
   "cell_type": "code",
   "execution_count": 15,
   "metadata": {},
   "outputs": [
    {
     "name": "stdout",
     "output_type": "stream",
     "text": [
      "2/2 [==============================] - 0s 21ms/step - loss: 1.1657 - acc: 0.5893\n"
     ]
    },
    {
     "data": {
      "text/plain": [
       "[1.1656949520111084, 0.5892857313156128]"
      ]
     },
     "execution_count": 15,
     "metadata": {},
     "output_type": "execute_result"
    }
   ],
   "source": [
    "model.load_weights ('best_model.h5')\n",
    "model.evaluate (emb_x_test, y_test)"
   ]
  },
  {
   "cell_type": "markdown",
   "metadata": {},
   "source": [
    "## Checking the predictions"
   ]
  },
  {
   "cell_type": "code",
   "execution_count": 16,
   "metadata": {},
   "outputs": [
    {
     "name": "stdout",
     "output_type": "stream",
     "text": [
      "WARNING:tensorflow:`model.predict_classes()` is deprecated and will be removed after 2021-01-01. Please use instead:* `np.argmax(model.predict(x), axis=-1)`,   if your model does multi-class classification   (e.g. if it uses a `softmax` last-layer activation).* `(model.predict(x) > 0.5).astype(\"int32\")`,   if your model does binary classification   (e.g. if it uses a `sigmoid` last-layer activation).\n"
     ]
    }
   ],
   "source": [
    "pred = model.predict_classes(emb_x_test)"
   ]
  },
  {
   "cell_type": "code",
   "execution_count": 17,
   "metadata": {
    "scrolled": true
   },
   "outputs": [
    {
     "name": "stdout",
     "output_type": "stream",
     "text": [
      "Sentence      : Actual       Prediction\n",
      "I want to eat : 🍴 \t\t🍴\n",
      "he did not answer : 😓 \t\t😓\n",
      "he got a raise : 😁 \t\t😓\n",
      "she got me a present : ❤️ \t\t😓\n",
      "ha ha ha it was so funny : 😁 \t\t😁\n",
      "he is a good friend : ❤️ \t\t😓\n",
      "I am upset : ❤️ \t\t😓\n",
      "We had such a lovely dinner tonight : ❤️ \t\t😓\n",
      "where is the food : 🍴 \t\t🍴\n",
      "Stop making this joke ha ha ha : 😁 \t\t😁\n"
     ]
    }
   ],
   "source": [
    "print(\"Sentence      : Actual       Prediction\")\n",
    "for i in range(10):\n",
    "    print(' '.join(x_test[i]), end = \" : \")\n",
    "    print(emoji.emojize(emoji_dictionary[str(np.argmax(y_test[i]))]), end = \" \\t\\t\")\n",
    "    print(emoji.emojize(emoji_dictionary[str(pred[i])]))"
   ]
  },
  {
   "cell_type": "markdown",
   "metadata": {},
   "source": [
    "I am upset : ❤️ \t\t😓                 \n",
    "We had such a lovely dinner tonight : ❤️ \t\t😁            \n",
    "    \n",
    "for these sentences our predictions were also good."
   ]
  },
  {
   "cell_type": "code",
   "execution_count": 18,
   "metadata": {},
   "outputs": [],
   "source": [
    "\n",
    "'''\n",
    "    Confusion Matrix\n",
    "'''\n",
    "\n",
    "Y_test = [np.argmax (i) for i in y_test] \n",
    "\n",
    "cm = confusion_matrix(Y_test, pred)"
   ]
  },
  {
   "cell_type": "code",
   "execution_count": 19,
   "metadata": {},
   "outputs": [
    {
     "data": {
      "image/png": "[encoded data removed]",
      "text/plain": [
       "<Figure size 432x288 with 2 Axes>"
      ]
     },
     "metadata": {
      "needs_background": "light"
     },
     "output_type": "display_data"
    }
   ],
   "source": [
    "sns.heatmap(cm, annot = True)\n",
    "plt.show ()"
   ]
  },
  {
   "cell_type": "markdown",
   "metadata": {},
   "source": [
    "## Tasks for future"
   ]
  },
  {
   "cell_type": "markdown",
   "metadata": {},
   "source": [
    "- Get more data\n",
    "- Try different model architectures"
   ]
  },
  {
   "cell_type": "markdown",
   "metadata": {},
   "source": [
    "________"
   ]
  }
 ],
 "metadata": {
  "kernelspec": {
   "display_name": "Python 3",
   "language": "python",
   "name": "python3"
  },
  "language_info": {
   "codemirror_mode": {
    "name": "ipython",
    "version": 3
   },
   "file_extension": ".py",
   "mimetype": "text/x-python",
   "name": "python",
   "nbconvert_exporter": "python",
   "pygments_lexer": "ipython3",
   "version": "3.7.4"
  }
 },
 "nbformat": 4,
 "nbformat_minor": 2
}
